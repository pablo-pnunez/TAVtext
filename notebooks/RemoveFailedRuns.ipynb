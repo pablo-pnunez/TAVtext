{
 "cells": [
  {
   "cell_type": "code",
   "execution_count": null,
   "metadata": {},
   "outputs": [],
   "source": [
    "import os\n",
    "import shutil\n",
    "import pandas as pd\n",
    "\n",
    "sets = {\"restaurants\": [\"gijon\", \"barcelona\", \"madrid\", \"paris\", \"newyorkcity\", \"london\"],\n",
    "        \"pois\": [\"barcelona\", \"madrid\", \"paris\", \"newyorkcity\", \"london\"],\n",
    "        \"amazon\": [\"fashion\", \"digital_music\"]}\n",
    "\n",
    "models = [\"ATT2ITM\", \"BOW2ITM\", \"USEM2ITM\"]\n",
    "models = [\"BERT2ITM\"]\n",
    "\n",
    "\n",
    "# Para cada modelo/conjunto/ciudad, mirar si se acabó la ejecución\n",
    "for model in models:\n",
    "    for dataset in sets.keys():\n",
    "        for city in sets[dataset]:\n",
    "            path = f\"models/{model}/{dataset}/{city}/\"\n",
    "\n",
    "            if os.path.exists(path):\n",
    "                for folder in os.listdir(path):\n",
    "                    total_path = path + folder + \"/\"\n",
    "                    \n",
    "                    if not os.path.exists(total_path + \"dev/\") or not os.path.exists(total_path + \"dev/history.jpg\"):\n",
    "                        shutil.rmtree(total_path)\n",
    "                        print(total_path)\n",
    "                    else:\n",
    "                        try:\n",
    "                            log = pd.read_csv(total_path + \"dev/log.csv\")\n",
    "                        except Exception:\n",
    "                            shutil.rmtree(total_path)\n",
    "                            print(total_path)\n",
    "            else:\n",
    "                print(f\"Not executed yet: {path}\")\n"
   ]
  }
 ],
 "metadata": {
  "language_info": {
   "name": "python"
  }
 },
 "nbformat": 4,
 "nbformat_minor": 2
}
