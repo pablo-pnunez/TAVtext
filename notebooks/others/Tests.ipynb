{
 "cells": [
  {
   "cell_type": "code",
   "execution_count": 8,
   "metadata": {},
   "outputs": [
    {
     "name": "stdout",
     "output_type": "stream",
     "text": [
      "Model: \"Transfer_learning_USE\"\n",
      "_________________________________________________________________\n",
      " Layer (type)                Output Shape              Param #   \n",
      "=================================================================\n",
      " input_layer (InputLayer)    [(None,)]                 0         \n",
      "                                                                 \n",
      " U.S.E (KerasLayer)          (None, 512)               68927232  \n",
      "                                                                 \n",
      "=================================================================\n",
      "Total params: 68,927,232\n",
      "Trainable params: 0\n",
      "Non-trainable params: 68,927,232\n",
      "_________________________________________________________________\n",
      "1/1 [==============================] - 1s 518ms/step\n"
     ]
    },
    {
     "data": {
      "text/plain": [
       "array([[ 0.1009224 , -0.03814157,  0.01989768, ...,  0.06737721,\n",
       "         0.01837963,  0.05331527],\n",
       "       [ 0.03645061, -0.03182309,  0.06664317, ...,  0.03586333,\n",
       "        -0.00165519,  0.0440184 ],\n",
       "       [-0.00550115,  0.00597672, -0.01482243, ..., -0.0397649 ,\n",
       "         0.03114326, -0.03666288]], dtype=float32)"
      ]
     },
     "execution_count": 8,
     "metadata": {},
     "output_type": "execute_result"
    },
    {
     "ename": "",
     "evalue": "",
     "output_type": "error",
     "traceback": [
      "\u001b[1;31mThe Kernel crashed while executing code in the the current cell or a previous cell. Please review the code in the cell(s) to identify a possible cause of the failure. Click <a href='https://aka.ms/vscodeJupyterKernelCrash'>here</a> for more info. View Jupyter <a href='command:jupyter.viewOutput'>log</a> for further details."
     ]
    }
   ],
   "source": [
    "import tensorflow_hub as hub\n",
    "import tensorflow as tf\n",
    "import tensorflow_text as text  # Needed for loading universal-sentence-encoder-cmlm/multilingual-preprocess\n",
    "import numpy as np\n",
    "\n",
    "# Some texts of different lengths.\n",
    "english_sentences = [\"dog\", \"Puppies are nice.\", \"I enjoy taking long walks along the beach with my dog.\"]\n",
    "italian_sentences = [\"cane\", \"I cuccioli sono carini.\", \"Mi piace fare lunghe passeggiate lungo la spiaggia con il mio cane.\"]\n",
    "japanese_sentences = [\"犬\", \"子犬はいいです\", \"私は犬と一緒にビーチを散歩するのが好きです\"]\n",
    "\n",
    "embed = hub.load(\"https://tfhub.dev/google/universal-sentence-encoder-multilingual/3\")\n",
    "\n",
    "# Compute embeddings.\n",
    "en_result = embed(english_sentences)\n",
    "it_result = embed(italian_sentences)\n",
    "ja_result = embed(japanese_sentences)\n",
    "\n",
    "\n",
    "sentence_encoding_layer = hub.KerasLayer(\"https://tfhub.dev/google/universal-sentence-encoder-multilingual/3\", trainable=False, input_shape = [], dtype = tf.string, name = 'U.S.E')\n",
    "\n",
    "inputs = tf.keras.layers.Input(shape = (), dtype = 'string',name = 'input_layer')\n",
    "outputs = sentence_encoding_layer(inputs)\n",
    "\n",
    "model = tf.keras.Model(inputs, outputs,name = 'Transfer_learning_USE')\n",
    "model.summary()\n",
    "\n",
    "model.predict(english_sentences)"
   ]
  },
  {
   "cell_type": "code",
   "execution_count": 8,
   "metadata": {},
   "outputs": [],
   "source": [
    "import tensorflow as tf\n",
    "tf.autograph.experimental.do_not_convert\n",
    "from tensorflow import keras\n",
    "import tensorflow_hub as hub\n",
    "import pandas as pd\n",
    "\n",
    "model_path = \"https://tfhub.dev/google/nnlm-es-dim128/2\"\n",
    "model_path = \"https://tfhub.dev/google/nnlm-en-dim128/2\"\n",
    "\n",
    "embed = hub.load(model_path)\n",
    "\n",
    "DATA = pd.read_pickle('data/RestaurantDataset/417c135d6d69672cd3dccf9f3d7bc369/ALL_DATA')"
   ]
  },
  {
   "cell_type": "code",
   "execution_count": 13,
   "metadata": {},
   "outputs": [],
   "source": [
    "embeddings = embed(DATA.text.values)\n"
   ]
  },
  {
   "cell_type": "code",
   "execution_count": 16,
   "metadata": {},
   "outputs": [
    {
     "data": {
      "text/plain": [
       "<tf.Tensor: shape=(40005, 128), dtype=float32, numpy=\n",
       "array([[-0.3264753 ,  0.15007608,  0.6889177 , ..., -0.0234348 ,\n",
       "         0.635548  , -0.02742715],\n",
       "       [-0.49373803, -0.08537051,  0.7375126 , ...,  0.24789114,\n",
       "         0.8523048 , -0.30055186],\n",
       "       [-0.15956353,  0.01727004,  0.27146158, ...,  0.11012498,\n",
       "         0.34013855, -0.15906505],\n",
       "       ...,\n",
       "       [-0.28688088,  0.01921381,  0.31409433, ...,  0.19149621,\n",
       "         0.39234763, -0.05848747],\n",
       "       [-0.23303813,  0.0361413 ,  0.48664016, ...,  0.05703034,\n",
       "         0.36939403, -0.00979391],\n",
       "       [-0.20724511,  0.04377092,  0.25718608, ...,  0.07967458,\n",
       "         0.37220412, -0.05905916]], dtype=float32)>"
      ]
     },
     "execution_count": 16,
     "metadata": {},
     "output_type": "execute_result"
    }
   ],
   "source": [
    "embeddings"
   ]
  },
  {
   "cell_type": "code",
   "execution_count": 6,
   "metadata": {},
   "outputs": [
    {
     "name": "stdout",
     "output_type": "stream",
     "text": [
      "Model: \"sequential_3\"\n",
      "_________________________________________________________________\n",
      " Layer (type)                Output Shape              Param #   \n",
      "=================================================================\n",
      " keras_layer_3 (KerasLayer)  (None, 128)               124642688 \n",
      "                                                                 \n",
      " dense_6 (Dense)             (None, 16)                2064      \n",
      "                                                                 \n",
      " dense_7 (Dense)             (None, 1)                 17        \n",
      "                                                                 \n",
      "=================================================================\n",
      "Total params: 124,644,769\n",
      "Trainable params: 2,081\n",
      "Non-trainable params: 124,642,688\n",
      "_________________________________________________________________\n",
      "1/1 [==============================] - 0s 44ms/step\n"
     ]
    },
    {
     "data": {
      "text/plain": [
       "array([[0.45997316],\n",
       "       [0.45926654]], dtype=float32)"
      ]
     },
     "execution_count": 6,
     "metadata": {},
     "output_type": "execute_result"
    }
   ],
   "source": [
    "hub_layer = hub.KerasLayer(model_path, input_shape=[], dtype=tf.string)\n",
    "model = keras.Sequential()\n",
    "model.add(hub_layer)\n",
    "model.add(keras.layers.Dense(16, activation='relu'))\n",
    "model.add(keras.layers.Dense(1, activation='sigmoid'))\n",
    "\n",
    "model.summary()\n",
    "model.predict([\"Hola\", \"asdasdas das das da sd as das d\"])"
   ]
  },
  {
   "cell_type": "code",
   "execution_count": 4,
   "metadata": {},
   "outputs": [],
   "source": [
    "import pandas as pd\n",
    "import gzip, json\n",
    "\n",
    "def parse(path):\n",
    "  g = gzip.open(path, 'rb')\n",
    "  for l in g:\n",
    "    yield json.loads(l)\n",
    "\n",
    "def getDF(path):\n",
    "  i = 0\n",
    "  df = {}\n",
    "  for d in parse(path):\n",
    "    df[i] = d\n",
    "    i += 1\n",
    "  return pd.DataFrame.from_dict(df, orient='index')\n",
    "\n",
    "df = getDF('/media/nas/datasets/amazon/automotive/Automotive_5.json.gz')"
   ]
  },
  {
   "cell_type": "code",
   "execution_count": 16,
   "metadata": {},
   "outputs": [
    {
     "data": {
      "text/html": [
       "<div>\n",
       "<style scoped>\n",
       "    .dataframe tbody tr th:only-of-type {\n",
       "        vertical-align: middle;\n",
       "    }\n",
       "\n",
       "    .dataframe tbody tr th {\n",
       "        vertical-align: top;\n",
       "    }\n",
       "\n",
       "    .dataframe thead th {\n",
       "        text-align: right;\n",
       "    }\n",
       "</style>\n",
       "<table border=\"1\" class=\"dataframe\">\n",
       "  <thead>\n",
       "    <tr style=\"text-align: right;\">\n",
       "      <th></th>\n",
       "      <th>rating</th>\n",
       "      <th>verified</th>\n",
       "      <th>reviewTime</th>\n",
       "      <th>userID</th>\n",
       "      <th>restaurantId</th>\n",
       "      <th>style</th>\n",
       "      <th>reviewerName</th>\n",
       "      <th>text</th>\n",
       "      <th>title</th>\n",
       "      <th>unixReviewTime</th>\n",
       "      <th>vote</th>\n",
       "      <th>image</th>\n",
       "    </tr>\n",
       "  </thead>\n",
       "  <tbody>\n",
       "    <tr>\n",
       "      <th>0</th>\n",
       "      <td>5.0</td>\n",
       "      <td>True</td>\n",
       "      <td>09 14, 2000</td>\n",
       "      <td>A3TB9HNQR54B5V</td>\n",
       "      <td>B0000225EL</td>\n",
       "      <td>NaN</td>\n",
       "      <td>John</td>\n",
       "      <td>This is a great collection of connectors and a...</td>\n",
       "      <td>A great collection of accessories</td>\n",
       "      <td>968889600</td>\n",
       "      <td>12</td>\n",
       "      <td>NaN</td>\n",
       "    </tr>\n",
       "    <tr>\n",
       "      <th>1</th>\n",
       "      <td>1.0</td>\n",
       "      <td>False</td>\n",
       "      <td>05 23, 2001</td>\n",
       "      <td>AY7CGSWDQ3SRL</td>\n",
       "      <td>1563923815</td>\n",
       "      <td>{'Format:': ' Paperback'}</td>\n",
       "      <td>John D</td>\n",
       "      <td>I bought this Haynes book thinking that it wou...</td>\n",
       "      <td>Disappointed and Depressed</td>\n",
       "      <td>990576000</td>\n",
       "      <td>58</td>\n",
       "      <td>NaN</td>\n",
       "    </tr>\n",
       "    <tr>\n",
       "      <th>2</th>\n",
       "      <td>5.0</td>\n",
       "      <td>True</td>\n",
       "      <td>04 23, 2002</td>\n",
       "      <td>A35UIYSKD6PVEG</td>\n",
       "      <td>B00NBC4IAC</td>\n",
       "      <td>{'Size:': ' 4-FY-parent9/6'}</td>\n",
       "      <td>Wandering Soul</td>\n",
       "      <td>This is a nice lamp shade that fit our lamps q...</td>\n",
       "      <td>A nice shade to match the crib set.</td>\n",
       "      <td>1019520000</td>\n",
       "      <td>2</td>\n",
       "      <td>NaN</td>\n",
       "    </tr>\n",
       "    <tr>\n",
       "      <th>3</th>\n",
       "      <td>1.0</td>\n",
       "      <td>False</td>\n",
       "      <td>07 22, 2002</td>\n",
       "      <td>A39XIRZI48YGZL</td>\n",
       "      <td>B00004Y774</td>\n",
       "      <td>NaN</td>\n",
       "      <td>Not Happy</td>\n",
       "      <td>Porter-Cable makes bad accesories for their po...</td>\n",
       "      <td>Another piece of [stuff] from Porter-Cable</td>\n",
       "      <td>1027296000</td>\n",
       "      <td>13</td>\n",
       "      <td>NaN</td>\n",
       "    </tr>\n",
       "    <tr>\n",
       "      <th>4</th>\n",
       "      <td>5.0</td>\n",
       "      <td>False</td>\n",
       "      <td>09 24, 2002</td>\n",
       "      <td>AERYJMGYQEJZP</td>\n",
       "      <td>B00V82FB58</td>\n",
       "      <td>{'Color:': ' 1pack27'}</td>\n",
       "      <td>GT</td>\n",
       "      <td>This product has differently colored sides to ...</td>\n",
       "      <td>Useful from day one.</td>\n",
       "      <td>1032825600</td>\n",
       "      <td>4</td>\n",
       "      <td>NaN</td>\n",
       "    </tr>\n",
       "    <tr>\n",
       "      <th>...</th>\n",
       "      <td>...</td>\n",
       "      <td>...</td>\n",
       "      <td>...</td>\n",
       "      <td>...</td>\n",
       "      <td>...</td>\n",
       "      <td>...</td>\n",
       "      <td>...</td>\n",
       "      <td>...</td>\n",
       "      <td>...</td>\n",
       "      <td>...</td>\n",
       "      <td>...</td>\n",
       "      <td>...</td>\n",
       "    </tr>\n",
       "    <tr>\n",
       "      <th>1711514</th>\n",
       "      <td>2.0</td>\n",
       "      <td>False</td>\n",
       "      <td>10 2, 2018</td>\n",
       "      <td>A2R82FNIK83TD4</td>\n",
       "      <td>B01HEHOAS4</td>\n",
       "      <td>{'Size:': ' Large', 'Color:': ' Matte Black'}</td>\n",
       "      <td>jeff</td>\n",
       "      <td>visibility is good. noise reduction is ok........</td>\n",
       "      <td>decent for price. two stars for being useless ...</td>\n",
       "      <td>1538438400</td>\n",
       "      <td>NaN</td>\n",
       "      <td>NaN</td>\n",
       "    </tr>\n",
       "    <tr>\n",
       "      <th>1711515</th>\n",
       "      <td>5.0</td>\n",
       "      <td>True</td>\n",
       "      <td>10 2, 2018</td>\n",
       "      <td>A33YDWTNM70GRG</td>\n",
       "      <td>B01H9XALY0</td>\n",
       "      <td>NaN</td>\n",
       "      <td>mickey53usa</td>\n",
       "      <td>Built an electronics project and needed a smal...</td>\n",
       "      <td>1 Amp - a little hard to find</td>\n",
       "      <td>1538438400</td>\n",
       "      <td>NaN</td>\n",
       "      <td>NaN</td>\n",
       "    </tr>\n",
       "    <tr>\n",
       "      <th>1711516</th>\n",
       "      <td>5.0</td>\n",
       "      <td>True</td>\n",
       "      <td>10 2, 2018</td>\n",
       "      <td>A3LA146D5ZTSWM</td>\n",
       "      <td>B01HFMNYIU</td>\n",
       "      <td>NaN</td>\n",
       "      <td>Lisa Mackulin</td>\n",
       "      <td>The nerf bars were shipped the next day. they ...</td>\n",
       "      <td>great product</td>\n",
       "      <td>1538438400</td>\n",
       "      <td>NaN</td>\n",
       "      <td>NaN</td>\n",
       "    </tr>\n",
       "    <tr>\n",
       "      <th>1711517</th>\n",
       "      <td>4.0</td>\n",
       "      <td>True</td>\n",
       "      <td>10 2, 2018</td>\n",
       "      <td>A2OY03FVH4OYKX</td>\n",
       "      <td>B01HC3QIGM</td>\n",
       "      <td>{'Size:': ' 1 Pack', 'Color:': ' Green'}</td>\n",
       "      <td>Chako</td>\n",
       "      <td>So far so good .after much motocross.</td>\n",
       "      <td>As described.</td>\n",
       "      <td>1538438400</td>\n",
       "      <td>NaN</td>\n",
       "      <td>NaN</td>\n",
       "    </tr>\n",
       "    <tr>\n",
       "      <th>1711518</th>\n",
       "      <td>5.0</td>\n",
       "      <td>True</td>\n",
       "      <td>10 3, 2018</td>\n",
       "      <td>A2DIG40N5NIQQW</td>\n",
       "      <td>B01HC6GZSK</td>\n",
       "      <td>NaN</td>\n",
       "      <td>Jesus</td>\n",
       "      <td>Great product fast shipping</td>\n",
       "      <td>Worked perfectly</td>\n",
       "      <td>1538524800</td>\n",
       "      <td>NaN</td>\n",
       "      <td>NaN</td>\n",
       "    </tr>\n",
       "  </tbody>\n",
       "</table>\n",
       "<p>1711519 rows × 12 columns</p>\n",
       "</div>"
      ],
      "text/plain": [
       "         rating  verified   reviewTime          userID restaurantId  \\\n",
       "0           5.0      True  09 14, 2000  A3TB9HNQR54B5V   B0000225EL   \n",
       "1           1.0     False  05 23, 2001   AY7CGSWDQ3SRL   1563923815   \n",
       "2           5.0      True  04 23, 2002  A35UIYSKD6PVEG   B00NBC4IAC   \n",
       "3           1.0     False  07 22, 2002  A39XIRZI48YGZL   B00004Y774   \n",
       "4           5.0     False  09 24, 2002   AERYJMGYQEJZP   B00V82FB58   \n",
       "...         ...       ...          ...             ...          ...   \n",
       "1711514     2.0     False   10 2, 2018  A2R82FNIK83TD4   B01HEHOAS4   \n",
       "1711515     5.0      True   10 2, 2018  A33YDWTNM70GRG   B01H9XALY0   \n",
       "1711516     5.0      True   10 2, 2018  A3LA146D5ZTSWM   B01HFMNYIU   \n",
       "1711517     4.0      True   10 2, 2018  A2OY03FVH4OYKX   B01HC3QIGM   \n",
       "1711518     5.0      True   10 3, 2018  A2DIG40N5NIQQW   B01HC6GZSK   \n",
       "\n",
       "                                                 style    reviewerName  \\\n",
       "0                                                  NaN            John   \n",
       "1                            {'Format:': ' Paperback'}          John D   \n",
       "2                         {'Size:': ' 4-FY-parent9/6'}  Wandering Soul   \n",
       "3                                                  NaN       Not Happy   \n",
       "4                               {'Color:': ' 1pack27'}              GT   \n",
       "...                                                ...             ...   \n",
       "1711514  {'Size:': ' Large', 'Color:': ' Matte Black'}            jeff   \n",
       "1711515                                            NaN     mickey53usa   \n",
       "1711516                                            NaN   Lisa Mackulin   \n",
       "1711517       {'Size:': ' 1 Pack', 'Color:': ' Green'}           Chako   \n",
       "1711518                                            NaN           Jesus   \n",
       "\n",
       "                                                      text  \\\n",
       "0        This is a great collection of connectors and a...   \n",
       "1        I bought this Haynes book thinking that it wou...   \n",
       "2        This is a nice lamp shade that fit our lamps q...   \n",
       "3        Porter-Cable makes bad accesories for their po...   \n",
       "4        This product has differently colored sides to ...   \n",
       "...                                                    ...   \n",
       "1711514  visibility is good. noise reduction is ok........   \n",
       "1711515  Built an electronics project and needed a smal...   \n",
       "1711516  The nerf bars were shipped the next day. they ...   \n",
       "1711517              So far so good .after much motocross.   \n",
       "1711518                        Great product fast shipping   \n",
       "\n",
       "                                                     title  unixReviewTime  \\\n",
       "0                        A great collection of accessories       968889600   \n",
       "1                               Disappointed and Depressed       990576000   \n",
       "2                      A nice shade to match the crib set.      1019520000   \n",
       "3               Another piece of [stuff] from Porter-Cable      1027296000   \n",
       "4                                     Useful from day one.      1032825600   \n",
       "...                                                    ...             ...   \n",
       "1711514  decent for price. two stars for being useless ...      1538438400   \n",
       "1711515                      1 Amp - a little hard to find      1538438400   \n",
       "1711516                                      great product      1538438400   \n",
       "1711517                                      As described.      1538438400   \n",
       "1711518                                   Worked perfectly      1538524800   \n",
       "\n",
       "        vote image  \n",
       "0         12   NaN  \n",
       "1         58   NaN  \n",
       "2          2   NaN  \n",
       "3         13   NaN  \n",
       "4          4   NaN  \n",
       "...      ...   ...  \n",
       "1711514  NaN   NaN  \n",
       "1711515  NaN   NaN  \n",
       "1711516  NaN   NaN  \n",
       "1711517  NaN   NaN  \n",
       "1711518  NaN   NaN  \n",
       "\n",
       "[1711519 rows x 12 columns]"
      ]
     },
     "execution_count": 16,
     "metadata": {},
     "output_type": "execute_result"
    }
   ],
   "source": [
    "columns_name_dict = {\"reviewerID\":\"userID\", \"overall\": \"rating\", \"asin\":\"restaurantId\", \"reviewText\":\"text\", \"summary\":\"title\"}\n",
    "\n",
    "df.rename(columns=columns_name_dict).sort_values(\"unixReviewTime\").reset_index(drop=True)"
   ]
  },
  {
   "cell_type": "code",
   "execution_count": 11,
   "metadata": {},
   "outputs": [
    {
     "name": "stdout",
     "output_type": "stream",
     "text": [
      "0.3850607287294289 0.3850607287294289\n"
     ]
    }
   ],
   "source": [
    "import tensorflow as tf\n",
    "import numpy as np\n",
    "\n",
    "one_weight = 1\n",
    "zero_weight = 1\n",
    "\n",
    "y_true = np.array([0., 0., 1.])\n",
    "y_pred = np.array([.5, .3, .9])\n",
    "b_ce = tf.keras.losses.binary_crossentropy(y_true, y_pred)\n",
    "\n",
    "weight_vector = y_true * one_weight + (1. - y_true) * zero_weight\n",
    "weighted_b_ce = weight_vector * b_ce\n",
    "loss = tf.math.reduce_mean(weighted_b_ce)\n",
    "\n",
    "print(b_ce.numpy(), loss.numpy())"
   ]
  },
  {
   "cell_type": "code",
   "execution_count": 37,
   "metadata": {},
   "outputs": [
    {
     "name": "stdout",
     "output_type": "stream",
     "text": [
      "tf.Tensor(0.3850607287294289, shape=(), dtype=float64) tf.Tensor(0.7350013226099508, shape=(), dtype=float64)\n"
     ]
    }
   ],
   "source": [
    "# Calculate the binary crossentropy\n",
    "\n",
    "zero_weight = 1\n",
    "one_weight = 1\n",
    "\n",
    "epsilon = tf.keras.backend.epsilon()\n",
    "y_pred = tf.clip_by_value(y_pred, epsilon, 1. - epsilon)\n",
    "\n",
    "# Compute cross entropy from probabilities.\n",
    "bce = y_true * tf.math.log(y_pred + epsilon)\n",
    "bce += (1 - y_true) * tf.math.log(1 - y_pred + epsilon)\n",
    "bce = -bce\n",
    "\n",
    "weight_vector = y_true * one_weight + (1. - y_true) * zero_weight\n",
    "weighted_bce = weight_vector * bce\n",
    "\n",
    "print(tf.reduce_mean(bce), tf.reduce_mean(weighted_bce))"
   ]
  },
  {
   "cell_type": "code",
   "execution_count": 1,
   "metadata": {},
   "outputs": [],
   "source": [
    "from src.Common import get_pickle, to_pickle\n",
    "import pandas as pd\n",
    "import numpy as np\n",
    "import sys\n",
    "\n",
    "file_path = \"data/RSTVALdataset/007570946a099bb7d79c50e21278e97e/\"\n",
    "file_name = \"TRAIN_DEV_SEQ\"\n",
    "\n",
    "TRAIN_DEV = get_pickle(file_path, file_name)"
   ]
  },
  {
   "cell_type": "code",
   "execution_count": 5,
   "metadata": {},
   "outputs": [
    {
     "data": {
      "text/plain": [
       "(1731660, 232)"
      ]
     },
     "execution_count": 5,
     "metadata": {},
     "output_type": "execute_result"
    }
   ],
   "source": [
    "TRAIN_DEV.shape"
   ]
  },
  {
   "cell_type": "code",
   "execution_count": null,
   "metadata": {},
   "outputs": [],
   "source": [
    "NTD = TRAIN_DEV.drop(columns=[\"text_base\", \"title_base\", \"text\", \"title\", \"bow\", \"city\", \"date\", \"language\", \"url\", \"seq\"])\n",
    "SQ = np.row_stack(TRAIN_DEV.seq.values).astype(np.int32)\n",
    "\n"
   ]
  },
  {
   "cell_type": "code",
   "execution_count": null,
   "metadata": {},
   "outputs": [],
   "source": [
    "to_pickle(file_path, \"TRAIN_DEV_SEQ\", SQ)\n"
   ]
  }
 ],
 "metadata": {
  "kernelspec": {
   "display_name": "Python 3.8.13 ('TAV_text')",
   "language": "python",
   "name": "python3"
  },
  "language_info": {
   "codemirror_mode": {
    "name": "ipython",
    "version": 3
   },
   "file_extension": ".py",
   "mimetype": "text/x-python",
   "name": "python",
   "nbconvert_exporter": "python",
   "pygments_lexer": "ipython3",
   "version": "3.8.13 | packaged by conda-forge | (default, Mar 25 2022, 06:04:18) \n[GCC 10.3.0]"
  },
  "orig_nbformat": 4,
  "vscode": {
   "interpreter": {
    "hash": "59c3167cb05e6f7e97c99e9a79591d7e7581f0ddda224877569af6fd2f440cfc"
   }
  }
 },
 "nbformat": 4,
 "nbformat_minor": 2
}
