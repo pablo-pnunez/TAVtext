{
 "cells": [
  {
   "attachments": {},
   "cell_type": "markdown",
   "metadata": {},
   "source": [
    "## Repara las ejecuciones en las que no se generó gráfico final.\n",
    "\n",
    "#### Si no hay gráfico, el método que comprueba si hay ejecuciones erroneas elimina todo"
   ]
  },
  {
   "cell_type": "code",
   "execution_count": 13,
   "metadata": {},
   "outputs": [],
   "source": [
    "import os\n",
    "import pandas as pd\n",
    "import seaborn as sns\n",
    "import matplotlib.pylab as plt\n",
    "\n",
    "path = \"/media/nas/pperez/code/TAVtext/models/USEM2ITM/restaurants\"\n",
    "is_dev = True\n",
    "\n",
    "CONFIG = {\"model\":{\"early_st_monitor\": \"val_loss\"}}\n",
    "\n",
    "for city in os.listdir(path):\n",
    "    city_path = f\"{path}/{city}\"\n",
    "    for exp in os.listdir(city_path):\n",
    "        exp_path = f\"{city_path}/{exp}\"\n",
    "        img_path = f\"{exp_path}/dev/history.jpg\"\n",
    "        csv_path = f\"{exp_path}/dev/log.csv\"\n",
    "\n",
    "        if not os.path.exists(img_path):\n",
    "            log = pd.read_csv(csv_path)\n",
    "            print(city, exp)\n",
    "            done_epochs = len(log)\n",
    "            fg_sz = (max(8, int((done_epochs*8)/500)), 8)\n",
    "            plt.figure(figsize=fg_sz)  # HAY QUE MEJORAR ESTO\n",
    "            hplt = sns.lineplot(x=range(done_epochs), y=log[CONFIG[\"model\"][\"early_st_monitor\"].replace(\"val_\", \"\")], label=CONFIG[\"model\"][\"early_st_monitor\"].replace(\"val_\", \"\"))\n",
    "            hplt = sns.lineplot(x=range(done_epochs), y=log[CONFIG[\"model\"][\"early_st_monitor\"]], label=CONFIG[\"model\"][\"early_st_monitor\"])\n",
    "            # hplt.set_yticks(np.asarray(range(0, 110, 10)) / 100)\n",
    "            # hplt.set_xticks(range(0, done_epochs, 20))\n",
    "            # hplt.set_xticklabels(range(0, done_epochs, 20), rotation=45)\n",
    "            hplt.set_title(\"Train history\")\n",
    "            hplt.set_xlabel(\"Epochs\")\n",
    "            hplt.set_ylabel(CONFIG[\"model\"][\"early_st_monitor\"])\n",
    "            hplt.grid(True)\n",
    "            plt.savefig(img_path)\n",
    "            plt.clf()\n"
   ]
  }
 ],
 "metadata": {
  "kernelspec": {
   "display_name": "TAV_text",
   "language": "python",
   "name": "python3"
  },
  "language_info": {
   "codemirror_mode": {
    "name": "ipython",
    "version": 3
   },
   "file_extension": ".py",
   "mimetype": "text/x-python",
   "name": "python",
   "nbconvert_exporter": "python",
   "pygments_lexer": "ipython3",
   "version": "3.8.13"
  },
  "orig_nbformat": 4,
  "vscode": {
   "interpreter": {
    "hash": "59c3167cb05e6f7e97c99e9a79591d7e7581f0ddda224877569af6fd2f440cfc"
   }
  }
 },
 "nbformat": 4,
 "nbformat_minor": 2
}
