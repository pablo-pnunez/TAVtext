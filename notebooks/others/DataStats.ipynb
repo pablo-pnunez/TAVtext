{
 "cells": [
  {
   "cell_type": "code",
   "execution_count": 1,
   "metadata": {},
   "outputs": [],
   "source": [
    "import matplotlib.pyplot as plt\n",
    "import seaborn as sbs\n",
    "import pandas as pd\n",
    "import numpy as np"
   ]
  },
  {
   "cell_type": "code",
   "execution_count": 2,
   "metadata": {},
   "outputs": [],
   "source": [
    "def user_review_pctg(city, data):\n",
    "    usr_stats = data.groupby(\"userId\").reviewId.apply(lambda x: len(x.unique())).reset_index()\n",
    "    res = []\n",
    "    for r in range(1,11):\n",
    "        n_usr = len(usr_stats[usr_stats[\"reviewId\"]>=r])\n",
    "        pctg = (n_usr/len(usr_stats))*100\n",
    "        res.append((r,pctg, city))\n",
    "\n",
    "    # res = pd.DataFrame(res, columns=[\"x\", \"y\", \"city\"])\n",
    "    return res\n",
    "\n",
    "def user_img_pctg(city, data):\n",
    "    usr_stats = data.groupby(\"userId\").n_img.sum().reset_index()\n",
    "\n",
    "    res = []\n",
    "    for r in range(6):\n",
    "        n_usr = len(usr_stats[usr_stats[\"n_img\"]==r])\n",
    "        pctg = (n_usr/len(usr_stats))*100\n",
    "        res.append((r,pctg, city))\n",
    "\n",
    "    return res\n",
    "\n",
    "def plot_user_pctg(data, name):            \n",
    "    cm = 1/2.54  # centimeters in inches\n",
    "    fig, axes =plt.subplots(figsize=(16*cm, 8*cm))\n",
    "\n",
    "    for city, cdt in data.groupby(\"city\"):\n",
    "        if city ==\"gijon\": city = \"gijón\"\n",
    "        axes.plot(cdt[\"x\"], cdt[\"y\"], label=city.title())       \n",
    "        axes.scatter(cdt[\"x\"], cdt[\"y\"])       \n",
    "\n",
    "    fig.tight_layout()\n",
    "    plt.legend(loc=\"upper right\")\n",
    "    plt.xticks(range(11), map(lambda x: \"\"+str(x),range(11)))\n",
    "    plt.yticks(range(0, 101, 10), map(lambda x: str(x)+\"%\", range(0, 101, 10)))\n",
    "\n",
    "    plt.savefig(f\"{name}_usr_pctg.pdf\")\n",
    "    plt.show()\n",
    "    "
   ]
  },
  {
   "cell_type": "code",
   "execution_count": 120,
   "metadata": {},
   "outputs": [
    {
     "name": "stdout",
     "output_type": "stream",
     "text": [
      "23.05299590956084\n",
      "19.6659235960546\n",
      "12.955196862271837\n",
      "11.08406113537118\n",
      "7.447379281881965\n"
     ]
    },
    {
     "data": {
      "image/png": "[encoded data removed]",
      "text/plain": [
       "<Figure size 453.543x226.772 with 1 Axes>"
      ]
     },
     "metadata": {
      "needs_background": "light"
     },
     "output_type": "display_data"
    }
   ],
   "source": [
    "cities = {\"gijon\":{\"name\":\"Gijón\", \"pop\":0.3}, \"barcelona\":{\"name\":\"Barcelona\", \"pop\":1.6}, \"paris\":{\"name\":\"Paris\", \"pop\":2.1},\n",
    "          \"madrid\":{\"name\":\"Madrid\", \"pop\":3.2}, \"newyorkcity\":{\"name\":\"New York\", \"pop\":8.3}, \"london\":{\"name\":\"London\", \"pop\":8.9}} # Ciudades con su población\n",
    "stats = []\n",
    "stats2 = []\n",
    "\n",
    "all_user_review_pctg_data = []\n",
    "reviews_most_popular_item = []\n",
    "\n",
    "dataset=\"pois\"\n",
    "\n",
    "for city in cities.keys():\n",
    "  \n",
    "  if dataset == \"restaurants\":\n",
    "    data_path = f\"/media/nas/datasets/tripadvisor/restaurants/{city}/\"\n",
    "    reviews = pd.read_pickle(data_path+\"reviews.pkl\")\n",
    "  \n",
    "  elif dataset == \"pois\":\n",
    "    if city== \"gijon\": continue\n",
    "\n",
    "    data_path = f\"/media/nas/datasets/tripadvisor/pois/DATA_byList/{city}/\"\n",
    "    reviews = pd.read_pickle(data_path+\"df.pickle\")\n",
    "    reviews = reviews.rename(columns={\"imageId\":\"images\", \"idPOI\":\"restaurantId\"})\n",
    "\n",
    "  # restaurants = pd.read_pickle(data_path+\"restaurants.pkl\")\n",
    "  # users = pd.read_pickle(data_path+\"users.pkl\")\n",
    "\n",
    "  reviews[\"n_img\"] = reviews.images.apply(lambda x: len(x))\n",
    "\n",
    "  '''\n",
    "  n_reviews = len(reviews.reviewId.unique())\n",
    "  n_images  = reviews.n_img.sum()\n",
    "  n_users = len(reviews.userId.unique())\n",
    "  n_rest = len(reviews.restaurantId.unique())\n",
    "\n",
    "  stats.append((f\"\\{city}\", cities[city], n_reviews, n_users, n_rest, n_images))\n",
    "\n",
    "  # AVG Reviews per user/item\n",
    "  avg_rvw_usr = np.round(reviews.groupby(\"userId\").reviewId.apply(lambda x: len(x.unique())).mean(), 2)\n",
    "  avg_rvw_itm = np.round(reviews.groupby(\"restaurantId\").reviewId.apply(lambda x: len(x.unique())).mean(), 2)\n",
    "  # AVG Images per user/item\n",
    "  avg_img_usr = np.round(reviews.groupby(\"userId\").n_img.sum().mean(), 2)\n",
    "  avg_img_itm = np.round(reviews.groupby(\"restaurantId\").n_img.sum().mean(), 2)\n",
    "  # AVG Items per user\n",
    "  avg_itm_usr = np.round(reviews.groupby(\"userId\").restaurantId.apply(lambda x: len(x.unique())).mean(), 2)\n",
    "\n",
    "  stats2.append((f\"\\{city}\", avg_rvw_usr, avg_rvw_itm, avg_img_usr, avg_img_itm, avg_itm_usr))\n",
    "  '''\n",
    "\n",
    "  # Gráficos\n",
    "  reviews_most_popular_item.append((cities[city][\"name\"], cities[city][\"pop\"], (reviews.groupby(\"restaurantId\").reviewId.count().max() / len(reviews))*100))\n",
    "  \n",
    "  print((reviews.groupby(\"restaurantId\").n_img.sum().max() / reviews.n_img.sum())*100)\n",
    "\n",
    "  user_review_pctg_data = user_img_pctg(city, reviews)\n",
    "  all_user_review_pctg_data.extend(user_review_pctg_data)\n",
    "\n",
    "stats = pd.DataFrame(stats, columns=[\"Dataset\", \"City\", \"Reviews\", \"Users\", \"Items\", \"Images\"])\n",
    "# print(stats.to_latex(index=False, escape=False))\n",
    "\n",
    "stats2 = pd.DataFrame(stats2, columns=[\"Dataset\", \"avg_rvw_usr\", \"avg_rvw_itm\", \"avg_img_usr\", \"avg_img_itm\", \"avg_itm_usr\"])\n",
    "# print(stats2.to_latex(index=False, escape=False))\n",
    "\n",
    "# Gráficos\n",
    "all_user_review_pctg_data = pd.DataFrame(all_user_review_pctg_data, columns=[\"x\", \"y\", \"city\"])\n",
    "plot_user_pctg(data=all_user_review_pctg_data, name=dataset)\n"
   ]
  },
  {
   "cell_type": "markdown",
   "metadata": {},
   "source": [
    "### Plot percentage of the most reviewed item"
   ]
  },
  {
   "cell_type": "code",
   "execution_count": 115,
   "metadata": {},
   "outputs": [
    {
     "name": "stderr",
     "output_type": "stream",
     "text": [
      "No handles with labels found to put in legend.\n",
      "No handles with labels found to put in legend.\n"
     ]
    },
    {
     "data": {
      "image/png": "[encoded data removed]",
      "text/plain": [
       "<Figure size 453.543x255.118 with 2 Axes>"
      ]
     },
     "metadata": {
      "needs_background": "light"
     },
     "output_type": "display_data"
    }
   ],
   "source": [
    "reviews_most_popular_item = pd.DataFrame(reviews_most_popular_item, columns=[\"x\", \"pop\" ,\"y\"])\n",
    "\n",
    "cm = 1/2.54  # centimeters in inches\n",
    "fig, axes =plt.subplots(figsize=(16*cm, 9*cm))\n",
    "\n",
    "axes2 = axes.twinx()\n",
    "\n",
    "axes.set_axisbelow(True)\n",
    "axes.yaxis.grid(color='gray', linestyle='dashed')\n",
    "\n",
    "axes.bar(x=reviews_most_popular_item[\"x\"], height=reviews_most_popular_item[\"y\"], color=\"gray\")     \n",
    "axes2.plot(reviews_most_popular_item[\"x\"], reviews_most_popular_item[\"pop\"], color=\"black\")     \n",
    "axes2.scatter(reviews_most_popular_item[\"x\"], reviews_most_popular_item[\"pop\"], color=\"black\")     \n",
    "\n",
    "plt.legend(loc=\"upper right\")\n",
    "# plt.xticks(range(11), map(lambda x: \"\"+str(x),range(11)))\n",
    "\n",
    "if dataset==\"restaurants\": \n",
    "    axes.set_yticks(range(0, 6, 1))\n",
    "    axes.set_yticklabels(map(lambda x: str(x)+\"%\", range(0, 6, 1)))\n",
    "    axes.set_ylim(0, 5.5)\n",
    "\n",
    "    plt.title(\"Restaurants\")\n",
    "\n",
    "else: \n",
    "    axes.set_yticks(range(0, 26, 5))\n",
    "    axes.set_yticklabels(map(lambda x: str(x)+\"%\", range(0, 26, 5)))\n",
    "    axes.set_ylim(0, 27.5)\n",
    "\n",
    "    plt.title(\"Points Of Interest\")\n",
    "\n",
    "\n",
    "axes2.set_yticks(range(0, 12, 2))\n",
    "axes2.set_ylim(0, 11)\n",
    "axes2.set_yticklabels(range(0, 12, 2))\n",
    "\n",
    "axes.set_ylabel(\"Percentage of total reviews\")\n",
    "axes2.set_ylabel(\"City population (millions)\")\n",
    "\n",
    "plt.legend().remove()\n",
    "fig.tight_layout()\n",
    "\n",
    "plt.savefig(f\"{dataset}_popular_item_reviews.pdf\")\n",
    "\n",
    "plt.show()"
   ]
  },
  {
   "cell_type": "code",
   "execution_count": 86,
   "metadata": {},
   "outputs": [
    {
     "data": {
      "text/html": [
       "<div>\n",
       "<style scoped>\n",
       "    .dataframe tbody tr th:only-of-type {\n",
       "        vertical-align: middle;\n",
       "    }\n",
       "\n",
       "    .dataframe tbody tr th {\n",
       "        vertical-align: top;\n",
       "    }\n",
       "\n",
       "    .dataframe thead th {\n",
       "        text-align: right;\n",
       "    }\n",
       "</style>\n",
       "<table border=\"1\" class=\"dataframe\">\n",
       "  <thead>\n",
       "    <tr style=\"text-align: right;\">\n",
       "      <th></th>\n",
       "      <th>x</th>\n",
       "      <th>pop</th>\n",
       "      <th>y</th>\n",
       "    </tr>\n",
       "  </thead>\n",
       "  <tbody>\n",
       "    <tr>\n",
       "      <th>0</th>\n",
       "      <td>Gijón</td>\n",
       "      <td>0.3</td>\n",
       "      <td>4.992060</td>\n",
       "    </tr>\n",
       "    <tr>\n",
       "      <th>1</th>\n",
       "      <td>Barcelona</td>\n",
       "      <td>1.6</td>\n",
       "      <td>0.489545</td>\n",
       "    </tr>\n",
       "    <tr>\n",
       "      <th>2</th>\n",
       "      <td>Paris</td>\n",
       "      <td>2.1</td>\n",
       "      <td>0.590385</td>\n",
       "    </tr>\n",
       "    <tr>\n",
       "      <th>3</th>\n",
       "      <td>Madrid</td>\n",
       "      <td>3.2</td>\n",
       "      <td>0.949403</td>\n",
       "    </tr>\n",
       "    <tr>\n",
       "      <th>4</th>\n",
       "      <td>New York</td>\n",
       "      <td>8.3</td>\n",
       "      <td>1.532573</td>\n",
       "    </tr>\n",
       "    <tr>\n",
       "      <th>5</th>\n",
       "      <td>London</td>\n",
       "      <td>8.9</td>\n",
       "      <td>0.641918</td>\n",
       "    </tr>\n",
       "  </tbody>\n",
       "</table>\n",
       "</div>"
      ],
      "text/plain": [
       "           x  pop         y\n",
       "0      Gijón  0.3  4.992060\n",
       "1  Barcelona  1.6  0.489545\n",
       "2      Paris  2.1  0.590385\n",
       "3     Madrid  3.2  0.949403\n",
       "4   New York  8.3  1.532573\n",
       "5     London  8.9  0.641918"
      ]
     },
     "execution_count": 86,
     "metadata": {},
     "output_type": "execute_result"
    }
   ],
   "source": [
    "reviews_most_popular_item"
   ]
  },
  {
   "cell_type": "code",
   "execution_count": null,
   "metadata": {},
   "outputs": [],
   "source": [
    "plot_user_pctg(data=all_user_review_pctg_data, name=dataset)\n",
    "all_user_review_pctg_data"
   ]
  },
  {
   "cell_type": "code",
   "execution_count": 1,
   "metadata": {},
   "outputs": [
    {
     "ename": "NameError",
     "evalue": "name 'all_user_review_pctg_data' is not defined",
     "output_type": "error",
     "traceback": [
      "\u001b[0;31m---------------------------------------------------------------------------\u001b[0m",
      "\u001b[0;31mNameError\u001b[0m                                 Traceback (most recent call last)",
      "\u001b[1;32m/media/nas/pperez/code/TAVtext/DataStats.ipynb Cell 5\u001b[0m in \u001b[0;36m<cell line: 4>\u001b[0;34m()\u001b[0m\n\u001b[1;32m      <a href='vscode-notebook-cell://ssh-remote%2B7b22686f73744e616d65223a224e53455256455233227d/media/nas/pperez/code/TAVtext/DataStats.ipynb#X16sdnNjb2RlLXJlbW90ZQ%3D%3D?line=0'>1</a>\u001b[0m \u001b[39mfrom\u001b[39;00m \u001b[39minspect\u001b[39;00m \u001b[39mimport\u001b[39;00m stack\n\u001b[1;32m      <a href='vscode-notebook-cell://ssh-remote%2B7b22686f73744e616d65223a224e53455256455233227d/media/nas/pperez/code/TAVtext/DataStats.ipynb#X16sdnNjb2RlLXJlbW90ZQ%3D%3D?line=2'>3</a>\u001b[0m res \u001b[39m=\u001b[39m []\n\u001b[0;32m----> <a href='vscode-notebook-cell://ssh-remote%2B7b22686f73744e616d65223a224e53455256455233227d/media/nas/pperez/code/TAVtext/DataStats.ipynb#X16sdnNjb2RlLXJlbW90ZQ%3D%3D?line=3'>4</a>\u001b[0m \u001b[39mfor\u001b[39;00m x, gd \u001b[39min\u001b[39;00m all_user_review_pctg_data\u001b[39m.\u001b[39mgroupby(\u001b[39m\"\u001b[39m\u001b[39mcity\u001b[39m\u001b[39m\"\u001b[39m):\n\u001b[1;32m      <a href='vscode-notebook-cell://ssh-remote%2B7b22686f73744e616d65223a224e53455256455233227d/media/nas/pperez/code/TAVtext/DataStats.ipynb#X16sdnNjb2RlLXJlbW90ZQ%3D%3D?line=4'>5</a>\u001b[0m     line \u001b[39m=\u001b[39m [x]\n\u001b[1;32m      <a href='vscode-notebook-cell://ssh-remote%2B7b22686f73744e616d65223a224e53455256455233227d/media/nas/pperez/code/TAVtext/DataStats.ipynb#X16sdnNjb2RlLXJlbW90ZQ%3D%3D?line=5'>6</a>\u001b[0m     line\u001b[39m.\u001b[39mextend(gd\u001b[39m.\u001b[39my\u001b[39m.\u001b[39mvalues)\n",
      "\u001b[0;31mNameError\u001b[0m: name 'all_user_review_pctg_data' is not defined"
     ]
    }
   ],
   "source": [
    "from inspect import stack\n",
    "\n",
    "res = []\n",
    "for x, gd in all_user_review_pctg_data.groupby(\"city\"):\n",
    "    line = [x]\n",
    "    line.extend(gd.y.values)\n",
    "    res.append(line)\n",
    "res\n",
    "\n",
    "'''\n",
    "colnames = [\"city\"]\n",
    "colnames.extend(range(11))\n",
    "res = pd.DataFrame(res, columns=colnames)\n",
    "plt = res.plot(figsize=(16*cm, 8*cm), kind=\"bar\", stacked=True)\n",
    "plt.set_xticklabels(list(cities.keys()))\n",
    "# plt.set_yticklabels(range(60,101, 10))\n",
    "\n",
    "plt.legend().remove()\n",
    "# plt.legend(loc=\"lower left\", ncol=len(res.columns))\n",
    "# plt.xticks(range(6), cities.keys())\n",
    "'''"
   ]
  }
 ],
 "metadata": {
  "kernelspec": {
   "display_name": "Python 3.8.13 ('TAV_text')",
   "language": "python",
   "name": "python3"
  },
  "language_info": {
   "codemirror_mode": {
    "name": "ipython",
    "version": 3
   },
   "file_extension": ".py",
   "mimetype": "text/x-python",
   "name": "python",
   "nbconvert_exporter": "python",
   "pygments_lexer": "ipython3",
   "version": "3.8.13"
  },
  "orig_nbformat": 4,
  "vscode": {
   "interpreter": {
    "hash": "59c3167cb05e6f7e97c99e9a79591d7e7581f0ddda224877569af6fd2f440cfc"
   }
  }
 },
 "nbformat": 4,
 "nbformat_minor": 2
}
