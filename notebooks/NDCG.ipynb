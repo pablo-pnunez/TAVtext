{
 "cells": [
  {
   "attachments": {},
   "cell_type": "markdown",
   "metadata": {},
   "source": [
    "### Verificar que se obtiene bien el NDCG"
   ]
  },
  {
   "cell_type": "code",
   "execution_count": 75,
   "metadata": {},
   "outputs": [],
   "source": [
    "import os\n",
    "import pandas as pd\n",
    "import tensorflow as tf\n",
    "from src.experiments.Common import load_best_model\n",
    "\n",
    "os.environ[\"CUDA_VISIBLE_DEVICES\"] = \"0\"\n",
    "\n",
    "datasets = {\"restaurants\":[\"gijon\", \"barcelona\", \"madrid\", \"paris\", \"newyorkcity\"],\n",
    "            \"pois\":[\"barcelona\", \"madrid\", \"paris\", \"newyorkcity\", \"london\"],\n",
    "            \"amazon\":[\"fashion\", \"digital_music\"]}\n",
    "\n",
    "models = [\"ATT2ITM\", \"BOW2ITM\", \"USEM2ITM\"]"
   ]
  },
  {
   "cell_type": "code",
   "execution_count": 76,
   "metadata": {},
   "outputs": [
    {
     "name": "stdout",
     "output_type": "stream",
     "text": [
      "\u001b[94mLoading best ATT2ITM model: 544d98b3ba0a0dfd7e3f0019f4d9675e\u001b[0m\n",
      "\u001b[93m[WARNING] Model folder already exists...\u001b[0m\n",
      "\u001b[93m[WARNING] Model weights are not loaded!\u001b[0m\n",
      "\u001b[92m[INFO] Model already trained. Loading weights...\u001b[0m\n"
     ]
    }
   ],
   "source": [
    "model = models[0]\n",
    "dataset = \"restaurants\"\n",
    "subset = \"gijon\"\n",
    "\n",
    "# Cargar el modelo con mejores hiperparámetros\n",
    "model_class = load_best_model(model=model, dataset=dataset, subset=subset)\n",
    "model_class.train(dev=True, save_model=True) # Cargar el modelo"
   ]
  },
  {
   "cell_type": "code",
   "execution_count": 77,
   "metadata": {},
   "outputs": [
    {
     "name": "stdout",
     "output_type": "stream",
     "text": [
      "\u001b[92m[INFO] There are 3935 evaluation examples.\u001b[0m\n",
      "\u001b[92m       loss    NDCG@1   NDCG@10   NDCG@50  NDCG@100   NDCG@-1  Precision@-1  \\\n",
      "0  0.011254  0.390343  0.552709  0.597387   0.60616  0.608079      0.589127   \n",
      "\n",
      "   Precision@1  Precision@5  Precision@10  Recall@-1  Recall@1  Recall@5  \\\n",
      "0     0.390343     0.126963      0.073571    0.16798  0.390343  0.634816   \n",
      "\n",
      "   Recall@10  Recall@20  Recall@50    F1@-1      F1@1      F1@5     F1@10  \n",
      "0   0.735705   0.833799   0.933164  0.26142  0.390343  0.211605  0.133765  \u001b[0m\n"
     ]
    }
   ],
   "source": [
    "train_dev_data = model_class.DATASET.DATA[\"TRAIN_DEV\"]\n",
    "dev_data = train_dev_data[train_dev_data[\"dev\"] == 1]\n",
    "\n",
    "all_data = pd.read_pickle(model_class.DATASET.DATASET_PATH+\"ALL_DATA\")[[\"reviewId\", \"text\"]]\n",
    "dev_text_data = all_data.set_index(\"reviewId\").loc[dev_data.reviewId.values][\"text\"].values\n",
    "dev_sequence = model_class.__create_tfdata__(dev_data)\n",
    "\n",
    "predictions = model_class.MODEL.predict(dev_sequence.batch(512).prefetch(tf.data.AUTOTUNE), verbose=0)\n",
    "evaluation = model_class.evaluate(test=False)"
   ]
  },
  {
   "cell_type": "code",
   "execution_count": 79,
   "metadata": {},
   "outputs": [],
   "source": [
    "from sklearn.metrics import ndcg_score\n",
    "import numpy as np\n",
    "\n",
    "ndcgs = []\n",
    "ndcgs_at_k = []\n",
    "\n",
    "for idx, (data_x, data_y) in enumerate(dev_sequence):\n",
    "    real_y = data_y.numpy()\n",
    "    pred_y = predictions[idx]\n",
    "    \n",
    "    real_y = np.asarray([real_y])\n",
    "    pred_y = np.asarray([pred_y])\n",
    "    \n",
    "    ndcg = ndcg_score(real_y, pred_y)   \n",
    "    ndcgs.append(ndcg)\n",
    "\n",
    "    ndcg_at_k = ndcg_score(real_y, pred_y, k=10)\n",
    "    ndcgs_at_k.append(ndcg_at_k)"
   ]
  },
  {
   "cell_type": "code",
   "execution_count": 80,
   "metadata": {},
   "outputs": [
    {
     "name": "stdout",
     "output_type": "stream",
     "text": [
      "0.6080785941082923 0.5527091085915189\n"
     ]
    }
   ],
   "source": [
    "print(np.mean(ndcgs), np.mean(ndcgs_at_k))"
   ]
  }
 ],
 "metadata": {
  "kernelspec": {
   "display_name": "TAV_text",
   "language": "python",
   "name": "python3"
  },
  "language_info": {
   "codemirror_mode": {
    "name": "ipython",
    "version": 3
   },
   "file_extension": ".py",
   "mimetype": "text/x-python",
   "name": "python",
   "nbconvert_exporter": "python",
   "pygments_lexer": "ipython3",
   "version": "3.9.18"
  },
  "orig_nbformat": 4
 },
 "nbformat": 4,
 "nbformat_minor": 2
}
