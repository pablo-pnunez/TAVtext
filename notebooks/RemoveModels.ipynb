{
 "cells": [
  {
   "cell_type": "code",
   "execution_count": 1,
   "metadata": {},
   "outputs": [],
   "source": [
    "import shutil\n",
    "import json\n",
    "import os"
   ]
  },
  {
   "cell_type": "code",
   "execution_count": 2,
   "metadata": {},
   "outputs": [],
   "source": [
    "models = [\"8fa2e981031fbbcdebdf5ff23d457412\", \"7df63f6c1aac6e730533a2fe3b90fb19\", \"61f883f44c6ddd801928a75226cf1e4e\", \"f3224f9f737a4f22bf565847a8d51b1f\", \"dc2b5e5f0cafa5d2f69df95c50a5fd2b\", \"0bde672469f593693a328825937afc94\", \"d51555bf6ddac72a8ed6c90d65843bc1\", \"af0387ebedfad308e708cb2977064fbd\", \"783f4084ece95a892b6796a11bb92da7\", \"968c5303573940e76376e224861bef1a\", \"0135e3b4d29ce9268ee38b838b5dbea1\", \"4ffcaca185be1957682ed7bb4451ca5a\", \"493f40acaf07beb166048cce16d1d32e\", \"069475974b10122290eec2f6b7e74338\", \"8d1f15c744c05384c39fef44a5d61fc6\", \"cc12776b6ee553703b327a078ceccc19\", \"07b5575b994a0eb9851a56ab25cb31ac\", \"3d6257e632d467ac664373ad962e76ec\", \"7e2dfb1b33748826bbbaaa6efbdafc60\", \"91f35d4a8f926e2f2281fea504d04f6b\", \"b3026f5cf0e6060df2e105095211b952\", \"c7c49167a8da1c54b88bd62f7f1e3b80\", \"a88f19745a29910d397a366fe0810ac6\", \"1cb764015ac07ae9d75ce05416447df8\", \"7826e6691e8c704a4252a2ab0085e545\", \"564d2967286e67533745f5c03d32cff2\", \"c66543ab9d91520835ee31773b0470b5\", \"ef08245cd0ffcdd505ff16b8d4879109\", \"c8ada3a7bc2a1cddf8f5fadc643097d6\", \"76e7fd6b6802a9bba24c13893ad092d0\", \"2d2b6af93813dd7140af166d1cfc1252\", \"315ccb083b255564c5b6310f82a103cf\", \"c210e42c23e60216f2f7ac1336e343eb\", \"e2087a7edca3f463121fcf81001cbcbc\", \"0c624bd64440ed418e2769b1d7d6aec3\", \"2bba03f75328d8a121ecaedde4802a9b\", \"bef02b8cbe01c6dab1e26d07679384d1\", \"0d9c44d8bd960b8422ab137c4e5c2cf1\", \"25e0b751c36ff9d43747c8db48ce81b3\", \"e4452d7467fc9b0e07a8ed8b00a4fefe\", \"2434518a925106760309876dd4aa9fdb\", \"bc337e4241fd925ca2ee6f3617d5c228\", \"55080736ba41c067110ff2f30000c2f3\", \"07d878afad9d2e3d6980252c4c33ebb1\", \"5e3c894dcdf35e477c461b17a0099cef\", \"87f0c0ec194ddd7935592ebb4fcabf86\"]"
   ]
  },
  {
   "cell_type": "code",
   "execution_count": 3,
   "metadata": {},
   "outputs": [],
   "source": [
    "path = \"/media/nas/pperez/code/TAVtext/models/ATT2ITM/restaurants/\" \n",
    "\n",
    "for root, dirs, files in os.walk(path):\n",
    "    if \"cfg.json\" in files and root.split(\"/\")[-1] in models:\n",
    "        with open(os.path.join(root, \"cfg.json\"), \"r\") as f:\n",
    "            cfg_model = json.load(f)\n",
    "        if cfg_model[\"model\"][\"model_version\"] == \"2\":\n",
    "            shutil.rmtree(root, ignore_errors=True)"
   ]
  },
  {
   "cell_type": "code",
   "execution_count": 12,
   "metadata": {},
   "outputs": [
    {
     "data": {
      "text/plain": [
       "{'dataset_config': {'bow_pct_words': 10,\n",
       "  'data_path': '/media/nas/datasets/tripadvisor/restaurants/',\n",
       "  'dataset': 'restaurants',\n",
       "  'language': 'es',\n",
       "  'lemmatization': True,\n",
       "  'min_df': 5,\n",
       "  'min_reviews_rst': 100,\n",
       "  'min_reviews_usr': 1,\n",
       "  'n_max_words': -50,\n",
       "  'presencia': False,\n",
       "  'remove_accents': True,\n",
       "  'remove_numbers': True,\n",
       "  'remove_stopwords': 2,\n",
       "  'save_path': 'data/',\n",
       "  'seed': 100,\n",
       "  'subset': 'barcelona',\n",
       "  'test_dev_split': 0.1,\n",
       "  'text_column': 'text',\n",
       "  'truncate_padding': True},\n",
       " 'model': {'model_version': '2',\n",
       "  'learning_rate': 5e-05,\n",
       "  'final_learning_rate': 5e-07,\n",
       "  'epochs': 1000,\n",
       "  'batch_size': 1024,\n",
       "  'seed': 100,\n",
       "  'early_st_first_epoch': 0,\n",
       "  'early_st_monitor': 'val_loss',\n",
       "  'early_st_monitor_mode': 'min',\n",
       "  'early_st_patience': 10}}"
      ]
     },
     "execution_count": 12,
     "metadata": {},
     "output_type": "execute_result"
    }
   ],
   "source": [
    "cfg_model"
   ]
  }
 ],
 "metadata": {
  "kernelspec": {
   "display_name": "TAV_text",
   "language": "python",
   "name": "python3"
  },
  "language_info": {
   "codemirror_mode": {
    "name": "ipython",
    "version": 3
   },
   "file_extension": ".py",
   "mimetype": "text/x-python",
   "name": "python",
   "nbconvert_exporter": "python",
   "pygments_lexer": "ipython3",
   "version": "3.8.13"
  },
  "orig_nbformat": 4
 },
 "nbformat": 4,
 "nbformat_minor": 2
}
