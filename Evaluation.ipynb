{
 "cells": [
  {
   "cell_type": "code",
   "execution_count": 3,
   "metadata": {},
   "outputs": [],
   "source": [
    "# Importar pandas\n",
    "import pandas as pd\n",
    "import os\n",
    "\n",
    "datasets = {\"restaurants\":[\"gijon\", \"barcelona\", \"madrid\", \"paris\", \"newyorkcity\"],\n",
    "            \"pois\":[\"barcelona\", \"madrid\", \"paris\", \"newyorkcity\", \"london\"],\n",
    "            \"amazon\":[\"fashion\", \"digital_music\"]}\n",
    "models = [\"ATT2ITM\", \"BOW2ITM\", \"USEM2ITM\"]\n",
    "\n",
    "best_model = pd.read_csv(\"models/best_models.csv\")\n",
    "\n",
    "for dataset, subsets in datasets.items():\n",
    "    for subset in subsets:\n",
    "        subset_results = pd.DataFrame(range(25), columns=[\"train_dev_items\"])\n",
    "        for model in models:\n",
    "            md5 = best_model.loc[(best_model.dataset == dataset) & (best_model.subset == subset) & (best_model.model == model)][\"model_md5\"].values[0]\n",
    "            results_path = f\"models/{model}/{dataset}/{subset}/{md5}/final_eval.csv\"\n",
    "            if os.path.exists(results_path):\n",
    "                results = pd.read_csv(results_path)\n",
    "                results = results.groupby(\"cold\")[\"NDCG\"].mean().reset_index().rename(columns={\"cold\":\"train_dev_items\", \"NDCG\":model})\n",
    "                subset_results = subset_results.merge(results, how=\"left\")\n",
    "            else:\n",
    "                raise ValueError\n",
    "        \n",
    "        print(subset_results)"
   ]
  }
 ],
 "metadata": {
  "kernelspec": {
   "display_name": "TAV_text",
   "language": "python",
   "name": "python3"
  },
  "language_info": {
   "codemirror_mode": {
    "name": "ipython",
    "version": 3
   },
   "file_extension": ".py",
   "mimetype": "text/x-python",
   "name": "python",
   "nbconvert_exporter": "python",
   "pygments_lexer": "ipython3",
   "version": "3.8.16"
  },
  "orig_nbformat": 4
 },
 "nbformat": 4,
 "nbformat_minor": 2
}
