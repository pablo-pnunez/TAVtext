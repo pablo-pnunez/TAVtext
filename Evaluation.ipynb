{
 "cells": [
  {
   "cell_type": "code",
   "execution_count": 1,
   "metadata": {},
   "outputs": [
    {
     "name": "stdout",
     "output_type": "stream",
     "text": [
      "models/ATT2ITM/restaurants/gijon/544d98b3ba0a0dfd7e3f0019f4d9675e/final_eval.csv\n",
      "models/BOW2ITM/restaurants/gijon/401e85db0ccb089b9a9c16018ad9e1a4/final_eval.csv\n",
      "models/USEM2ITM/restaurants/gijon/6176b22e81f5ac3a3fd3d8cef15bf87f/final_eval.csv\n",
      "models/ATT2ITM/restaurants/barcelona/a751af910be5e885fa3470532027da52/final_eval.csv\n",
      "models/BOW2ITM/restaurants/barcelona/e7847b82b4b7766d5c55f8c1fa6b420b/final_eval.csv\n",
      "models/USEM2ITM/restaurants/barcelona/681a8a44718862ca193269a2f26c265b/final_eval.csv\n",
      "models/ATT2ITM/restaurants/madrid/a4b0c8d943798dec23a1c92e58393f9c/final_eval.csv\n",
      "models/BOW2ITM/restaurants/madrid/d83ee2225f1cb02abaddf9f363260f4f/final_eval.csv\n",
      "models/USEM2ITM/restaurants/madrid/8e2850f07e2417da31adda6690ecb102/final_eval.csv\n",
      "models/ATT2ITM/restaurants/paris/93b1f31e2c35a560da30ecd7415f755e/final_eval.csv\n",
      "models/BOW2ITM/restaurants/paris/6aea4232acc6d6e60e572d5e8bd9103f/final_eval.csv\n",
      "models/USEM2ITM/restaurants/paris/f77689739fee40dfa623d0c1e5f8eb58/final_eval.csv\n",
      "models/ATT2ITM/restaurants/newyorkcity/8b74c00371d98f236fb265dd46b234c4/final_eval.csv\n",
      "models/BOW2ITM/restaurants/newyorkcity/03249d447359cf2ea87d87d3de473d6c/final_eval.csv\n",
      "models/USEM2ITM/restaurants/newyorkcity/bf1ad401491f16a4b4c20361be55e9e5/final_eval.csv\n",
      "models/ATT2ITM/pois/barcelona/befb3fb7ff73fefc2577c108acb4ebc0/final_eval.csv\n",
      "models/BOW2ITM/pois/barcelona/659b73c68ee6fbad1b8b86590c8b514e/final_eval.csv\n",
      "models/USEM2ITM/pois/barcelona/4a75205e3811c42a98be9cb8602c2f65/final_eval.csv\n",
      "models/ATT2ITM/pois/madrid/afe7526023b1827d88ecad6479de8971/final_eval.csv\n",
      "models/BOW2ITM/pois/madrid/f8d6f8eec381179ac84a0715813f5322/final_eval.csv\n",
      "models/USEM2ITM/pois/madrid/6e01c0a0df89d627b95aa5b8fccc153c/final_eval.csv\n",
      "models/ATT2ITM/pois/paris/734cbcb93f6f6f5d7b5c5a5247f561f9/final_eval.csv\n",
      "models/BOW2ITM/pois/paris/9e071c5f97ff63f54bf5aed7243d7a8f/final_eval.csv\n",
      "models/USEM2ITM/pois/paris/6e921900e2c8a12d84716e2b1d975711/final_eval.csv\n",
      "models/ATT2ITM/pois/newyorkcity/37ed8371d07fb3ebc09c24d421039f8a/final_eval.csv\n",
      "models/BOW2ITM/pois/newyorkcity/c6bf4924dccb44d4096c913f09b2856e/final_eval.csv\n",
      "models/USEM2ITM/pois/newyorkcity/96be83abf434a894bb645f31d26b84b8/final_eval.csv\n",
      "models/ATT2ITM/pois/london/b1fd2b9a5b758e60a01fad655ae73515/final_eval.csv\n",
      "models/BOW2ITM/pois/london/58539f1981fab6b86e15924f1a7bf50f/final_eval.csv\n",
      "models/USEM2ITM/pois/london/b7caed7a4d82d3bc054e9ddf4172ff9c/final_eval.csv\n",
      "models/ATT2ITM/amazon/fashion/35df7659227e1d9871e0be81787f66c6/final_eval.csv\n",
      "models/BOW2ITM/amazon/fashion/2bf0d3793edf66c690c9d37fa4afa6b2/final_eval.csv\n",
      "models/USEM2ITM/amazon/fashion/b73849c1547e35e73b945f1ac891bf3e/final_eval.csv\n",
      "models/ATT2ITM/amazon/digital_music/83d7299d69e036237427036eafe7886a/final_eval.csv\n",
      "models/BOW2ITM/amazon/digital_music/f6437033f3c383c81bafbcd296d11122/final_eval.csv\n",
      "models/USEM2ITM/amazon/digital_music/79e6447f873f01e909da8f0dca6627ca/final_eval.csv\n"
     ]
    }
   ],
   "source": [
    "# Importar pandas\n",
    "import pandas as pd\n",
    "import shutil\n",
    "import os\n",
    "\n",
    "datasets = {\"restaurants\":[\"gijon\", \"barcelona\", \"madrid\", \"paris\", \"newyorkcity\"],\n",
    "            \"pois\":[\"barcelona\", \"madrid\", \"paris\", \"newyorkcity\", \"london\"],\n",
    "            \"amazon\":[\"fashion\", \"digital_music\"]}\n",
    "models = [\"ATT2ITM\", \"BOW2ITM\", \"USEM2ITM\"]\n",
    "\n",
    "best_model = pd.read_csv(\"models/best_models.csv\")\n",
    "\n",
    "for dataset, subsets in datasets.items():\n",
    "    for subset in subsets:\n",
    "        subset_results = pd.DataFrame(range(25), columns=[\"train_dev_items\"])\n",
    "        for model in models:\n",
    "            md5 = best_model.loc[(best_model.dataset == dataset) & (best_model.subset == subset) & (best_model.model == model)][\"model_md5\"].values[0]\n",
    "            results_path = f\"models/{model}/{dataset}/{subset}/{md5}/final_eval.csv\"\n",
    "            if os.path.exists(results_path):\n",
    "                print(results_path)\n",
    "                os.remove(results_path)\n",
    "        \n",
    "                #results = pd.read_csv(results_path)\n",
    "                #results = results.groupby(\"cold\")[\"NDCG\"].mean().reset_index().rename(columns={\"cold\":\"train_dev_items\", \"NDCG\":model})\n",
    "                #subset_results = subset_results.merge(results, how=\"left\")\n",
    "            #else:\n",
    "                #raise ValueError\n",
    "        \n",
    "        #print(subset_results)\n",
    "        "
   ]
  }
 ],
 "metadata": {
  "kernelspec": {
   "display_name": "TAV_text",
   "language": "python",
   "name": "python3"
  },
  "language_info": {
   "codemirror_mode": {
    "name": "ipython",
    "version": 3
   },
   "file_extension": ".py",
   "mimetype": "text/x-python",
   "name": "python",
   "nbconvert_exporter": "python",
   "pygments_lexer": "ipython3",
   "version": "3.8.16"
  },
  "orig_nbformat": 4
 },
 "nbformat": 4,
 "nbformat_minor": 2
}
